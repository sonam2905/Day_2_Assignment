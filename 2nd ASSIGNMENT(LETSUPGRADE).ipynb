{
 "cells": [
  {
   "cell_type": "code",
   "execution_count": 1,
   "metadata": {},
   "outputs": [
    {
     "name": "stdout",
     "output_type": "stream",
     "text": [
      "enter the number3 3 4 4 2 2 4 3 6 7 8 9\n",
      "[4, 4, 2, 2, 4, 6]\n"
     ]
    }
   ],
   "source": [
    "#1.\n",
    "\n",
    "l1=[]\n",
    "n=list(map(int,input(\"enter the number\").split()))[:9]\n",
    "for i in range(0,9):\n",
    "    if n[i]%2==0:\n",
    "        l1.append(n[i])\n",
    "print(l1)\n",
    "    "
   ]
  },
  {
   "cell_type": "code",
   "execution_count": 2,
   "metadata": {},
   "outputs": [
    {
     "name": "stdout",
     "output_type": "stream",
     "text": [
      "['sonam', 'b.tech', 1506810309]\n",
      "[1, 4, 5, 6, 7, 8, 3, 4, 54, 67, 89, 43, 21, 34, 32, 20, 30]\n",
      "[32, 34, 21, 43, 89, 67, 54, 4, 3, 8, 7, 6, 5, 4, 1]\n",
      "[545, 1, 4, 5, 6, 7, 8, 3, 4, 54, 67, 89, 43, 21, 34, 32]\n",
      "[1, 4, 6, 7, 8, 3, 4, 54, 67, 89, 43, 21, 34, 32]\n",
      "378\n"
     ]
    }
   ],
   "source": [
    "#2. (LIST COMPREHENSION)\n",
    "# we can store multiple type data in list.\n",
    "\n",
    "list=[\"sonam\",'b.tech', 1506810309]\n",
    "print(list)\n",
    "\n",
    "#append fnction\n",
    "l1=[1,4,5,6,7,8,3,4,54,67,89,43,21,34,32]\n",
    "l1.append(20)\n",
    "l1.append(30)\n",
    "print(l1)\n",
    "\n",
    "#reverse fnction\n",
    "lst=[1,4,5,6,7,8,3,4,54,67,89,43,21,34,32]\n",
    "lst.reverse()\n",
    "print(lst)\n",
    "\n",
    "#insert fnction\n",
    "l1=[1,4,5,6,7,8,3,4,54,67,89,43,21,34,32]\n",
    "l1.insert(0,545)\n",
    "print(l1)\n",
    "\n",
    "#pop fnction\n",
    "\n",
    "l1=[1,4,5,6,7,8,3,4,54,67,89,43,21,34,32]\n",
    "l1.pop(2)\n",
    "print(l1)\n",
    "\n",
    "l1=[1,4,5,6,7,8,3,4,54,67,89,43,21,34,32]\n",
    "print(sum(l1))\n"
   ]
  },
  {
   "cell_type": "code",
   "execution_count": 4,
   "metadata": {},
   "outputs": [
    {
     "name": "stdout",
     "output_type": "stream",
     "text": [
      "Input a number 4\n",
      "{1: 1, 2: 4, 3: 9, 4: 16}\n"
     ]
    }
   ],
   "source": [
    "#3.\n",
    "\n",
    "n=int(input(\"Input a number \"))\n",
    "d = dict()\n",
    "\n",
    "for i in range(1,n+1):\n",
    "    d[i]=i*i\n",
    "\n",
    "print(d) "
   ]
  },
  {
   "cell_type": "code",
   "execution_count": 6,
   "metadata": {},
   "outputs": [
    {
     "name": "stdout",
     "output_type": "stream",
     "text": [
      "Enter the numbers of directions4\n",
      "UP 5\n",
      "DOWN 3\n",
      "LEFT 3\n",
      "RIGHT 1\n",
      "2 -2\n"
     ]
    }
   ],
   "source": [
    "#4.\n",
    "\n",
    "n=int(input(\"Enter the numbers of directions\"))\n",
    "starting_position=0\n",
    "UP=int(input(\"UP \"))\n",
    "DOWN=int(input(\"DOWN \"))\n",
    "LEFT=int(input(\"LEFT \"))\n",
    "RIGHT=int(input(\"RIGHT \"))\n",
    "FINAL1=UP-DOWN\n",
    "FINAL2=RIGHT-LEFT\n",
    "print(FINAL1,FINAL2)\n",
    "\n",
    "\n"
   ]
  },
  {
   "cell_type": "code",
   "execution_count": 7,
   "metadata": {},
   "outputs": [
    {
     "name": "stdout",
     "output_type": "stream",
     "text": [
      "Final Position: ( -1 ,  1 )\n"
     ]
    }
   ],
   "source": [
    "#4. (Second type)\n",
    "def finalPosition(move): \n",
    "  \n",
    "    l = len(move); \n",
    "    countUp, countDown = 0, 0; \n",
    "    countLeft, countRight = 0, 0; \n",
    "    for i in range(l): \n",
    "        if (move[i] == 'U'): \n",
    "            countUp += 1; \n",
    "  \n",
    "        elif(move[i] == 'D'): \n",
    "            countDown += 1; \n",
    "  \n",
    "        elif(move[i] == 'L'): \n",
    "            countLeft += 1; \n",
    "  \n",
    "        elif(move[i] == 'R'): \n",
    "            countRight += 1; \n",
    "  \n",
    "    # required final position of robot \n",
    "    print(\"Final Position: (\", (countRight - countLeft), \n",
    "            \", \" , (countUp - countDown), \")\"); \n",
    "if __name__ == '__main__': \n",
    "    move = \"UUUUDDDLLLRR\"; \n",
    "    finalPosition(move); "
   ]
  },
  {
   "cell_type": "code",
   "execution_count": null,
   "metadata": {},
   "outputs": [],
   "source": []
  },
  {
   "cell_type": "code",
   "execution_count": null,
   "metadata": {},
   "outputs": [],
   "source": []
  },
  {
   "cell_type": "code",
   "execution_count": null,
   "metadata": {},
   "outputs": [],
   "source": []
  }
 ],
 "metadata": {
  "kernelspec": {
   "display_name": "Python 3",
   "language": "python",
   "name": "python3"
  },
  "language_info": {
   "codemirror_mode": {
    "name": "ipython",
    "version": 3
   },
   "file_extension": ".py",
   "mimetype": "text/x-python",
   "name": "python",
   "nbconvert_exporter": "python",
   "pygments_lexer": "ipython3",
   "version": "3.7.0"
  }
 },
 "nbformat": 4,
 "nbformat_minor": 4
}
